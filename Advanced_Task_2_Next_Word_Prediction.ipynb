{
  "nbformat": 4,
  "nbformat_minor": 0,
  "metadata": {
    "colab": {
      "name": "Advanced Task 2 - Next Word Prediction.ipynb",
      "provenance": [],
      "collapsed_sections": []
    },
    "kernelspec": {
      "name": "python3",
      "display_name": "Python 3"
    },
    "language_info": {
      "name": "python"
    }
  },
  "cells": [
    {
      "cell_type": "markdown",
      "source": [
        "**Advanced Task 2 - Next Word Prediction**\n",
        "\n",
        "***Author - Ritika Roy Chowdhury***"
      ],
      "metadata": {
        "id": "jD1BExSXGm_D"
      }
    },
    {
      "cell_type": "markdown",
      "source": [
        "Importing required packages"
      ],
      "metadata": {
        "id": "uIFjqlbbG3IF"
      }
    },
    {
      "cell_type": "code",
      "execution_count": null,
      "metadata": {
        "id": "iv5pStKZduaY"
      },
      "outputs": [],
      "source": [
        "import tensorflow as tf\n",
        "from tensorflow.keras.preprocessing.text import Tokenizer\n",
        "from tensorflow.keras.layers import Embedding, LSTM, Dense\n",
        "from tensorflow.keras.models import Sequential\n",
        "from tensorflow.keras.utils import to_categorical\n",
        "from tensorflow.keras.optimizers import Adam\n",
        "import pickle\n",
        "import numpy as np\n",
        "import os"
      ]
    },
    {
      "cell_type": "markdown",
      "source": [
        "Loading Data and printing first and last line"
      ],
      "metadata": {
        "id": "SokbgYJ6G7LX"
      }
    },
    {
      "cell_type": "code",
      "source": [
        "file = open(\"/content/1661-0.txt\", \"r\", encoding = \"utf8\")\n",
        "lines = []\n",
        "\n",
        "for i in file:\n",
        "    lines.append(i)\n",
        "    \n",
        "print(\"The First Line: \", lines[0])\n",
        "print(\"The Last Line: \", lines[-1])"
      ],
      "metadata": {
        "colab": {
          "base_uri": "https://localhost:8080/"
        },
        "id": "d6YT4QDpeV6Y",
        "outputId": "e352b433-8f65-4bb1-e9bb-c897792b5f20"
      },
      "execution_count": null,
      "outputs": [
        {
          "output_type": "stream",
          "name": "stdout",
          "text": [
            "The First Line:  ﻿Project Gutenberg's The Adventures of Sherlock Holmes, by Arthur Conan Doyle\n",
            "\n",
            "The Last Line:  subscribe to our email newsletter to hear about new eBooks.\n"
          ]
        }
      ]
    },
    {
      "cell_type": "markdown",
      "source": [
        "Cleaning the data:\n",
        "\n",
        "Replacing \\n, \\r and \\ufeff with ' ' "
      ],
      "metadata": {
        "id": "7jjGKh7CHIHR"
      }
    },
    {
      "cell_type": "code",
      "source": [
        "data = \"\"\n",
        "\n",
        "for i in lines:\n",
        "    data = ' '. join(lines)\n",
        "    \n",
        "data = data.replace('\\n', '').replace('\\r', '').replace('\\ufeff', '')\n",
        "data[:360]"
      ],
      "metadata": {
        "colab": {
          "base_uri": "https://localhost:8080/",
          "height": 70
        },
        "id": "Q-VsbVPke5Hg",
        "outputId": "1d921550-69e5-4de1-9f2a-f9fb4f7ecf7e"
      },
      "execution_count": null,
      "outputs": [
        {
          "output_type": "execute_result",
          "data": {
            "application/vnd.google.colaboratory.intrinsic+json": {
              "type": "string"
            },
            "text/plain": [
              "\"Project Gutenberg's The Adventures of Sherlock Holmes, by Arthur Conan Doyle  This eBook is for the use of anyone anywhere at no cost and with almost no restrictions whatsoever.  You may copy it, give it away or re-use it under the terms of the Project Gutenberg License included with this eBook or online at www.gutenberg.net   Title: The Adventures of Sherlo\""
            ]
          },
          "metadata": {},
          "execution_count": 6
        }
      ]
    },
    {
      "cell_type": "markdown",
      "source": [
        "Mapping punctuation to space"
      ],
      "metadata": {
        "id": "jFBNJfywJI6J"
      }
    },
    {
      "cell_type": "code",
      "source": [
        "import string\n",
        "\n",
        "translator = str.maketrans(string.punctuation, ' '*len(string.punctuation)) #map punctuation to space\n",
        "new_data = data.translate(translator)\n",
        "\n",
        "new_data[:500]"
      ],
      "metadata": {
        "colab": {
          "base_uri": "https://localhost:8080/",
          "height": 88
        },
        "id": "k8QjRI5yfBY9",
        "outputId": "c578c30f-82da-4f68-97d4-82ec62399b8f"
      },
      "execution_count": null,
      "outputs": [
        {
          "output_type": "execute_result",
          "data": {
            "application/vnd.google.colaboratory.intrinsic+json": {
              "type": "string"
            },
            "text/plain": [
              "'Project Gutenberg s The Adventures of Sherlock Holmes  by Arthur Conan Doyle  This eBook is for the use of anyone anywhere at no cost and with almost no restrictions whatsoever   You may copy it  give it away or re use it under the terms of the Project Gutenberg License included with this eBook or online at www gutenberg net   Title  The Adventures of Sherlock Holmes  Author  Arthur Conan Doyle  Release Date  November 29  2002  EBook  1661  Last Updated  May 20  2019  Language  English  Characte'"
            ]
          },
          "metadata": {},
          "execution_count": 7
        }
      ]
    },
    {
      "cell_type": "code",
      "source": [
        "z = []\n",
        "\n",
        "for i in data.split():\n",
        "    if i not in z:\n",
        "        z.append(i)\n",
        "        \n",
        "data = ' '.join(z)\n",
        "data[:500]"
      ],
      "metadata": {
        "colab": {
          "base_uri": "https://localhost:8080/",
          "height": 88
        },
        "id": "IqR9Kg_gfHhK",
        "outputId": "ea9d28b5-c6be-4876-c454-e3aac3dcf59b"
      },
      "execution_count": null,
      "outputs": [
        {
          "output_type": "execute_result",
          "data": {
            "application/vnd.google.colaboratory.intrinsic+json": {
              "type": "string"
            },
            "text/plain": [
              "\"Project Gutenberg's The Adventures of Sherlock Holmes, by Arthur Conan Doyle This eBook is for the use anyone anywhere at no cost and with almost restrictions whatsoever. You may copy it, give it away or re-use under terms Gutenberg License included this online www.gutenberg.net Title: Holmes Author: Release Date: November 29, 2002 [EBook #1661] Last Updated: May 20, 2019 Language: English Character set encoding: UTF-8 *** START OF THIS PROJECT GUTENBERG EBOOK THE ADVENTURES SHERLOCK HOLMES Prod\""
            ]
          },
          "metadata": {},
          "execution_count": 8
        }
      ]
    },
    {
      "cell_type": "markdown",
      "source": [
        "Tokenization"
      ],
      "metadata": {
        "id": "Xh0_eMtAJn0n"
      }
    },
    {
      "cell_type": "code",
      "source": [
        "tokenizer = Tokenizer()\n",
        "tokenizer.fit_on_texts([data])\n",
        "\n",
        "# saving the tokenizer for predict function.\n",
        "pickle.dump(tokenizer, open('tokenizer1.pkl', 'wb'))\n",
        "\n",
        "sequence_data = tokenizer.texts_to_sequences([data])[0]\n",
        "sequence_data[:10]"
      ],
      "metadata": {
        "colab": {
          "base_uri": "https://localhost:8080/"
        },
        "id": "npOlr9affO31",
        "outputId": "b035e194-b10d-42f4-a4d0-3a3926e81eb3"
      },
      "execution_count": null,
      "outputs": [
        {
          "output_type": "execute_result",
          "data": {
            "text/plain": [
              "[838, 3083, 56, 322, 57, 1523, 15, 95, 839, 3084]"
            ]
          },
          "metadata": {},
          "execution_count": 9
        }
      ]
    },
    {
      "cell_type": "code",
      "source": [
        "vocab_size = len(tokenizer.word_index) + 1\n",
        "print(vocab_size)"
      ],
      "metadata": {
        "colab": {
          "base_uri": "https://localhost:8080/"
        },
        "id": "tVko--VofUUS",
        "outputId": "17fb93a1-05ca-4ed5-a544-1f6943709cba"
      },
      "execution_count": null,
      "outputs": [
        {
          "output_type": "stream",
          "name": "stdout",
          "text": [
            "8931\n"
          ]
        }
      ]
    },
    {
      "cell_type": "code",
      "source": [
        "sequences = []\n",
        "\n",
        "for i in range(1, len(sequence_data)):\n",
        "    words = sequence_data[i-1:i+1]\n",
        "    sequences.append(words)\n",
        "    \n",
        "print(\"The Length of sequences are: \", len(sequences))\n",
        "sequences = np.array(sequences)\n",
        "sequences[:10]"
      ],
      "metadata": {
        "colab": {
          "base_uri": "https://localhost:8080/"
        },
        "id": "y5pk1_NifbiB",
        "outputId": "726dd254-2797-4448-9026-20ffb214e198"
      },
      "execution_count": null,
      "outputs": [
        {
          "output_type": "stream",
          "name": "stdout",
          "text": [
            "The Length of sequences are:  17678\n"
          ]
        },
        {
          "output_type": "execute_result",
          "data": {
            "text/plain": [
              "array([[ 838, 3083],\n",
              "       [3083,   56],\n",
              "       [  56,  322],\n",
              "       [ 322,   57],\n",
              "       [  57, 1523],\n",
              "       [1523,   15],\n",
              "       [  15,   95],\n",
              "       [  95,  839],\n",
              "       [ 839, 3084],\n",
              "       [3084, 3085]])"
            ]
          },
          "metadata": {},
          "execution_count": 11
        }
      ]
    },
    {
      "cell_type": "code",
      "source": [
        "X = []\n",
        "y = []\n",
        "\n",
        "for i in sequences:\n",
        "    X.append(i[0])\n",
        "    y.append(i[1])\n",
        "    \n",
        "X = np.array(X)\n",
        "y = np.array(y)"
      ],
      "metadata": {
        "id": "PB-yHsmAfeL2"
      },
      "execution_count": null,
      "outputs": []
    },
    {
      "cell_type": "code",
      "source": [
        "print(\"The Data is: \", X[:5])\n",
        "print(\"The responses are: \", y[:5])"
      ],
      "metadata": {
        "colab": {
          "base_uri": "https://localhost:8080/"
        },
        "id": "SVfpWGGhfliL",
        "outputId": "116576e7-be17-49ec-f7c4-5f7a716d34f6"
      },
      "execution_count": null,
      "outputs": [
        {
          "output_type": "stream",
          "name": "stdout",
          "text": [
            "The Data is:  [ 838 3083   56  322   57]\n",
            "The responses are:  [3083   56  322   57 1523]\n"
          ]
        }
      ]
    },
    {
      "cell_type": "code",
      "source": [
        "y = to_categorical(y, num_classes=vocab_size)\n",
        "y[:5]"
      ],
      "metadata": {
        "colab": {
          "base_uri": "https://localhost:8080/"
        },
        "id": "n-oNxU_jfnZJ",
        "outputId": "96619641-6fa8-4dae-be9f-cbed45f96c40"
      },
      "execution_count": null,
      "outputs": [
        {
          "output_type": "execute_result",
          "data": {
            "text/plain": [
              "array([[0., 0., 0., ..., 0., 0., 0.],\n",
              "       [0., 0., 0., ..., 0., 0., 0.],\n",
              "       [0., 0., 0., ..., 0., 0., 0.],\n",
              "       [0., 0., 0., ..., 0., 0., 0.],\n",
              "       [0., 0., 0., ..., 0., 0., 0.]], dtype=float32)"
            ]
          },
          "metadata": {},
          "execution_count": 14
        }
      ]
    },
    {
      "cell_type": "markdown",
      "source": [
        "Creating the Model:"
      ],
      "metadata": {
        "id": "6j7kAlPBJxG1"
      }
    },
    {
      "cell_type": "code",
      "source": [
        "model = Sequential()\n",
        "model.add(Embedding(vocab_size, 10, input_length=1))\n",
        "model.add(LSTM(1000, return_sequences=True))\n",
        "model.add(LSTM(1000))\n",
        "model.add(Dense(1000, activation=\"relu\"))\n",
        "model.add(Dense(vocab_size, activation=\"softmax\"))"
      ],
      "metadata": {
        "id": "bgZUorw3frWD"
      },
      "execution_count": null,
      "outputs": []
    },
    {
      "cell_type": "code",
      "source": [
        "model.summary()"
      ],
      "metadata": {
        "colab": {
          "base_uri": "https://localhost:8080/"
        },
        "id": "NHr7U3S5fyc8",
        "outputId": "eeca896e-22be-4570-8a04-473e4137d55a"
      },
      "execution_count": null,
      "outputs": [
        {
          "output_type": "stream",
          "name": "stdout",
          "text": [
            "Model: \"sequential\"\n",
            "_________________________________________________________________\n",
            " Layer (type)                Output Shape              Param #   \n",
            "=================================================================\n",
            " embedding (Embedding)       (None, 1, 10)             89310     \n",
            "                                                                 \n",
            " lstm (LSTM)                 (None, 1, 1000)           4044000   \n",
            "                                                                 \n",
            " lstm_1 (LSTM)               (None, 1000)              8004000   \n",
            "                                                                 \n",
            " dense (Dense)               (None, 1000)              1001000   \n",
            "                                                                 \n",
            " dense_1 (Dense)             (None, 8931)              8939931   \n",
            "                                                                 \n",
            "=================================================================\n",
            "Total params: 22,078,241\n",
            "Trainable params: 22,078,241\n",
            "Non-trainable params: 0\n",
            "_________________________________________________________________\n"
          ]
        }
      ]
    },
    {
      "cell_type": "markdown",
      "source": [
        "Plotting the model:"
      ],
      "metadata": {
        "id": "xAzPm1fZJ2xi"
      }
    },
    {
      "cell_type": "code",
      "source": [
        "from tensorflow import keras\n",
        "from keras.utils.vis_utils import plot_model\n",
        "\n",
        "keras.utils.plot_model(model, to_file='model.png', show_layer_names=True)"
      ],
      "metadata": {
        "colab": {
          "base_uri": "https://localhost:8080/",
          "height": 564
        },
        "id": "INPzvkcXf0wP",
        "outputId": "5acd6144-fbe1-443e-b3ca-7822b852dcde"
      },
      "execution_count": null,
      "outputs": [
        {
          "output_type": "execute_result",
          "data": {
            "image/png": "[encoded data removed]",
            "text/plain": [
              "<IPython.core.display.Image object>"
            ]
          },
          "metadata": {},
          "execution_count": 17
        }
      ]
    },
    {
      "cell_type": "markdown",
      "source": [
        "Callbacks:"
      ],
      "metadata": {
        "id": "eOk207_MJ88P"
      }
    },
    {
      "cell_type": "code",
      "source": [
        "from tensorflow.keras.callbacks import ModelCheckpoint\n",
        "from tensorflow.keras.callbacks import ReduceLROnPlateau\n",
        "from tensorflow.keras.callbacks import TensorBoard\n",
        "\n",
        "checkpoint = ModelCheckpoint(\"nextword1.h5\", monitor='loss', verbose=1,\n",
        "    save_best_only=True, mode='auto')\n",
        "\n",
        "reduce = ReduceLROnPlateau(monitor='loss', factor=0.2, patience=3, min_lr=0.0001, verbose = 1)\n",
        "\n",
        "logdir='logsnextword1'\n",
        "tensorboard_Visualization = TensorBoard(log_dir=logdir)"
      ],
      "metadata": {
        "id": "rSuNCttzf54g"
      },
      "execution_count": null,
      "outputs": []
    },
    {
      "cell_type": "markdown",
      "source": [
        "Compile the model:"
      ],
      "metadata": {
        "id": "H-9Nn9SxKIV3"
      }
    },
    {
      "cell_type": "code",
      "source": [
        "model.compile(loss=\"categorical_crossentropy\", optimizer=Adam(lr=0.001))"
      ],
      "metadata": {
        "colab": {
          "base_uri": "https://localhost:8080/"
        },
        "id": "44lwhYYpf_9U",
        "outputId": "6d0aa4ba-cf23-409c-f3d9-a5ad55846ad9"
      },
      "execution_count": null,
      "outputs": [
        {
          "output_type": "stream",
          "name": "stderr",
          "text": [
            "/usr/local/lib/python3.7/dist-packages/keras/optimizer_v2/adam.py:105: UserWarning: The `lr` argument is deprecated, use `learning_rate` instead.\n",
            "  super(Adam, self).__init__(name, **kwargs)\n"
          ]
        }
      ]
    },
    {
      "cell_type": "markdown",
      "source": [
        "Fit the model:"
      ],
      "metadata": {
        "id": "lq5Nv7_oKMM2"
      }
    },
    {
      "cell_type": "code",
      "source": [
        "model.fit(X, y, epochs=150, batch_size=64, callbacks=[checkpoint, reduce, tensorboard_Visualization])"
      ],
      "metadata": {
        "colab": {
          "base_uri": "https://localhost:8080/"
        },
        "id": "us266JU-gFzI",
        "outputId": "59bb6078-41d8-456c-96dc-d7c5be59d403"
      },
      "execution_count": null,
      "outputs": [
        {
          "output_type": "stream",
          "name": "stdout",
          "text": [
            "Epoch 1/150\n",
            "277/277 [==============================] - ETA: 0s - loss: 8.8784\n",
            "Epoch 00001: loss improved from inf to 8.87836, saving model to nextword1.h5\n",
            "277/277 [==============================] - 86s 280ms/step - loss: 8.8784 - lr: 0.0010\n",
            "Epoch 2/150\n",
            "277/277 [==============================] - ETA: 0s - loss: 8.3595\n",
            "Epoch 00002: loss improved from 8.87836 to 8.35950, saving model to nextword1.h5\n",
            "277/277 [==============================] - 76s 275ms/step - loss: 8.3595 - lr: 0.0010\n",
            "Epoch 3/150\n",
            "277/277 [==============================] - ETA: 0s - loss: 8.0921\n",
            "Epoch 00003: loss improved from 8.35950 to 8.09214, saving model to nextword1.h5\n",
            "277/277 [==============================] - 76s 274ms/step - loss: 8.0921 - lr: 0.0010\n",
            "Epoch 4/150\n",
            "277/277 [==============================] - ETA: 0s - loss: 7.8711\n",
            "Epoch 00004: loss improved from 8.09214 to 7.87114, saving model to nextword1.h5\n",
            "277/277 [==============================] - 76s 275ms/step - loss: 7.8711 - lr: 0.0010\n",
            "Epoch 5/150\n",
            "277/277 [==============================] - ETA: 0s - loss: 7.6646\n",
            "Epoch 00005: loss improved from 7.87114 to 7.66464, saving model to nextword1.h5\n",
            "277/277 [==============================] - 76s 273ms/step - loss: 7.6646 - lr: 0.0010\n",
            "Epoch 6/150\n",
            "277/277 [==============================] - ETA: 0s - loss: 7.4592\n",
            "Epoch 00006: loss improved from 7.66464 to 7.45919, saving model to nextword1.h5\n",
            "277/277 [==============================] - 76s 273ms/step - loss: 7.4592 - lr: 0.0010\n",
            "Epoch 7/150\n",
            "277/277 [==============================] - ETA: 0s - loss: 7.2224\n",
            "Epoch 00007: loss improved from 7.45919 to 7.22240, saving model to nextword1.h5\n",
            "277/277 [==============================] - 76s 274ms/step - loss: 7.2224 - lr: 0.0010\n",
            "Epoch 8/150\n",
            "277/277 [==============================] - ETA: 0s - loss: 6.9764\n",
            "Epoch 00008: loss improved from 7.22240 to 6.97642, saving model to nextword1.h5\n",
            "277/277 [==============================] - 76s 274ms/step - loss: 6.9764 - lr: 0.0010\n",
            "Epoch 9/150\n",
            "277/277 [==============================] - ETA: 0s - loss: 6.7081\n",
            "Epoch 00009: loss improved from 6.97642 to 6.70810, saving model to nextword1.h5\n",
            "277/277 [==============================] - 76s 275ms/step - loss: 6.7081 - lr: 0.0010\n",
            "Epoch 10/150\n",
            "277/277 [==============================] - ETA: 0s - loss: 6.4348\n",
            "Epoch 00010: loss improved from 6.70810 to 6.43479, saving model to nextword1.h5\n",
            "277/277 [==============================] - 77s 276ms/step - loss: 6.4348 - lr: 0.0010\n",
            "Epoch 11/150\n",
            "277/277 [==============================] - ETA: 0s - loss: 6.1610\n",
            "Epoch 00011: loss improved from 6.43479 to 6.16103, saving model to nextword1.h5\n",
            "277/277 [==============================] - 76s 276ms/step - loss: 6.1610 - lr: 0.0010\n",
            "Epoch 12/150\n",
            "277/277 [==============================] - ETA: 0s - loss: 5.9126\n",
            "Epoch 00012: loss improved from 6.16103 to 5.91263, saving model to nextword1.h5\n",
            "277/277 [==============================] - 76s 275ms/step - loss: 5.9126 - lr: 0.0010\n",
            "Epoch 13/150\n",
            "277/277 [==============================] - ETA: 0s - loss: 5.6850\n",
            "Epoch 00013: loss improved from 5.91263 to 5.68496, saving model to nextword1.h5\n",
            "277/277 [==============================] - 76s 276ms/step - loss: 5.6850 - lr: 0.0010\n",
            "Epoch 14/150\n",
            "277/277 [==============================] - ETA: 0s - loss: 5.4748\n",
            "Epoch 00014: loss improved from 5.68496 to 5.47479, saving model to nextword1.h5\n",
            "277/277 [==============================] - 76s 273ms/step - loss: 5.4748 - lr: 0.0010\n",
            "Epoch 15/150\n",
            "277/277 [==============================] - ETA: 0s - loss: 5.3091\n",
            "Epoch 00015: loss improved from 5.47479 to 5.30913, saving model to nextword1.h5\n",
            "277/277 [==============================] - 76s 275ms/step - loss: 5.3091 - lr: 0.0010\n",
            "Epoch 16/150\n",
            "277/277 [==============================] - ETA: 0s - loss: 5.1336\n",
            "Epoch 00016: loss improved from 5.30913 to 5.13364, saving model to nextword1.h5\n",
            "277/277 [==============================] - 76s 276ms/step - loss: 5.1336 - lr: 0.0010\n",
            "Epoch 17/150\n",
            "277/277 [==============================] - ETA: 0s - loss: 4.9691\n",
            "Epoch 00017: loss improved from 5.13364 to 4.96911, saving model to nextword1.h5\n",
            "277/277 [==============================] - 76s 274ms/step - loss: 4.9691 - lr: 0.0010\n",
            "Epoch 18/150\n",
            "277/277 [==============================] - ETA: 0s - loss: 4.8264\n",
            "Epoch 00018: loss improved from 4.96911 to 4.82639, saving model to nextword1.h5\n",
            "277/277 [==============================] - 75s 272ms/step - loss: 4.8264 - lr: 0.0010\n",
            "Epoch 19/150\n",
            "277/277 [==============================] - ETA: 0s - loss: 4.6859\n",
            "Epoch 00019: loss improved from 4.82639 to 4.68595, saving model to nextword1.h5\n",
            "277/277 [==============================] - 75s 270ms/step - loss: 4.6859 - lr: 0.0010\n",
            "Epoch 20/150\n",
            "277/277 [==============================] - ETA: 0s - loss: 4.5287\n",
            "Epoch 00020: loss improved from 4.68595 to 4.52866, saving model to nextword1.h5\n",
            "277/277 [==============================] - 75s 272ms/step - loss: 4.5287 - lr: 0.0010\n",
            "Epoch 21/150\n",
            "277/277 [==============================] - ETA: 0s - loss: 4.3848\n",
            "Epoch 00021: loss improved from 4.52866 to 4.38481, saving model to nextword1.h5\n",
            "277/277 [==============================] - 76s 274ms/step - loss: 4.3848 - lr: 0.0010\n",
            "Epoch 22/150\n",
            "277/277 [==============================] - ETA: 0s - loss: 4.2326\n",
            "Epoch 00022: loss improved from 4.38481 to 4.23257, saving model to nextword1.h5\n",
            "277/277 [==============================] - 76s 275ms/step - loss: 4.2326 - lr: 0.0010\n",
            "Epoch 23/150\n",
            "277/277 [==============================] - ETA: 0s - loss: 4.0874\n",
            "Epoch 00023: loss improved from 4.23257 to 4.08737, saving model to nextword1.h5\n",
            "277/277 [==============================] - 76s 273ms/step - loss: 4.0874 - lr: 0.0010\n",
            "Epoch 24/150\n",
            "277/277 [==============================] - ETA: 0s - loss: 3.9558\n",
            "Epoch 00024: loss improved from 4.08737 to 3.95584, saving model to nextword1.h5\n",
            "277/277 [==============================] - 76s 273ms/step - loss: 3.9558 - lr: 0.0010\n",
            "Epoch 25/150\n",
            "277/277 [==============================] - ETA: 0s - loss: 3.8217\n",
            "Epoch 00025: loss improved from 3.95584 to 3.82166, saving model to nextword1.h5\n",
            "277/277 [==============================] - 76s 273ms/step - loss: 3.8217 - lr: 0.0010\n",
            "Epoch 26/150\n",
            "277/277 [==============================] - ETA: 0s - loss: 3.6940\n",
            "Epoch 00026: loss improved from 3.82166 to 3.69397, saving model to nextword1.h5\n",
            "277/277 [==============================] - 76s 273ms/step - loss: 3.6940 - lr: 0.0010\n",
            "Epoch 27/150\n",
            "277/277 [==============================] - ETA: 0s - loss: 3.5801\n",
            "Epoch 00027: loss improved from 3.69397 to 3.58013, saving model to nextword1.h5\n",
            "277/277 [==============================] - 76s 275ms/step - loss: 3.5801 - lr: 0.0010\n",
            "Epoch 28/150\n",
            "277/277 [==============================] - ETA: 0s - loss: 3.4659\n",
            "Epoch 00028: loss improved from 3.58013 to 3.46594, saving model to nextword1.h5\n",
            "277/277 [==============================] - 76s 275ms/step - loss: 3.4659 - lr: 0.0010\n",
            "Epoch 29/150\n",
            "277/277 [==============================] - ETA: 0s - loss: 3.3485\n",
            "Epoch 00029: loss improved from 3.46594 to 3.34852, saving model to nextword1.h5\n",
            "277/277 [==============================] - 76s 275ms/step - loss: 3.3485 - lr: 0.0010\n",
            "Epoch 30/150\n",
            "277/277 [==============================] - ETA: 0s - loss: 3.2448\n",
            "Epoch 00030: loss improved from 3.34852 to 3.24475, saving model to nextword1.h5\n",
            "277/277 [==============================] - 76s 274ms/step - loss: 3.2448 - lr: 0.0010\n",
            "Epoch 31/150\n",
            "277/277 [==============================] - ETA: 0s - loss: 3.1547\n",
            "Epoch 00031: loss improved from 3.24475 to 3.15467, saving model to nextword1.h5\n",
            "277/277 [==============================] - 77s 276ms/step - loss: 3.1547 - lr: 0.0010\n",
            "Epoch 32/150\n",
            "277/277 [==============================] - ETA: 0s - loss: 3.0568\n",
            "Epoch 00032: loss improved from 3.15467 to 3.05679, saving model to nextword1.h5\n",
            "277/277 [==============================] - 77s 276ms/step - loss: 3.0568 - lr: 0.0010\n",
            "Epoch 33/150\n",
            "277/277 [==============================] - ETA: 0s - loss: 2.9643\n",
            "Epoch 00033: loss improved from 3.05679 to 2.96428, saving model to nextword1.h5\n",
            "277/277 [==============================] - 77s 277ms/step - loss: 2.9643 - lr: 0.0010\n",
            "Epoch 34/150\n",
            "277/277 [==============================] - ETA: 0s - loss: 2.8851\n",
            "Epoch 00034: loss improved from 2.96428 to 2.88506, saving model to nextword1.h5\n",
            "277/277 [==============================] - 77s 280ms/step - loss: 2.8851 - lr: 0.0010\n",
            "Epoch 35/150\n",
            "277/277 [==============================] - ETA: 0s - loss: 2.8202\n",
            "Epoch 00035: loss improved from 2.88506 to 2.82022, saving model to nextword1.h5\n",
            "277/277 [==============================] - 76s 275ms/step - loss: 2.8202 - lr: 0.0010\n",
            "Epoch 36/150\n",
            "277/277 [==============================] - ETA: 0s - loss: 2.7617\n",
            "Epoch 00036: loss improved from 2.82022 to 2.76167, saving model to nextword1.h5\n",
            "277/277 [==============================] - 76s 275ms/step - loss: 2.7617 - lr: 0.0010\n",
            "Epoch 37/150\n",
            "277/277 [==============================] - ETA: 0s - loss: 2.6811\n",
            "Epoch 00037: loss improved from 2.76167 to 2.68107, saving model to nextword1.h5\n",
            "277/277 [==============================] - 75s 272ms/step - loss: 2.6811 - lr: 0.0010\n",
            "Epoch 38/150\n",
            "277/277 [==============================] - ETA: 0s - loss: 2.6151\n",
            "Epoch 00038: loss improved from 2.68107 to 2.61507, saving model to nextword1.h5\n",
            "277/277 [==============================] - 76s 273ms/step - loss: 2.6151 - lr: 0.0010\n",
            "Epoch 39/150\n",
            "277/277 [==============================] - ETA: 0s - loss: 2.5646\n",
            "Epoch 00039: loss improved from 2.61507 to 2.56461, saving model to nextword1.h5\n",
            "277/277 [==============================] - 76s 274ms/step - loss: 2.5646 - lr: 0.0010\n",
            "Epoch 40/150\n",
            "277/277 [==============================] - ETA: 0s - loss: 2.5169\n",
            "Epoch 00040: loss improved from 2.56461 to 2.51687, saving model to nextword1.h5\n",
            "277/277 [==============================] - 76s 275ms/step - loss: 2.5169 - lr: 0.0010\n",
            "Epoch 41/150\n",
            "277/277 [==============================] - ETA: 0s - loss: 2.4660\n",
            "Epoch 00041: loss improved from 2.51687 to 2.46597, saving model to nextword1.h5\n",
            "277/277 [==============================] - 76s 275ms/step - loss: 2.4660 - lr: 0.0010\n",
            "Epoch 42/150\n",
            "277/277 [==============================] - ETA: 0s - loss: 2.4179\n",
            "Epoch 00042: loss improved from 2.46597 to 2.41786, saving model to nextword1.h5\n",
            "277/277 [==============================] - 76s 274ms/step - loss: 2.4179 - lr: 0.0010\n",
            "Epoch 43/150\n",
            "277/277 [==============================] - ETA: 0s - loss: 2.3700\n",
            "Epoch 00043: loss improved from 2.41786 to 2.37003, saving model to nextword1.h5\n",
            "277/277 [==============================] - 76s 275ms/step - loss: 2.3700 - lr: 0.0010\n",
            "Epoch 44/150\n",
            "277/277 [==============================] - ETA: 0s - loss: 2.3323\n",
            "Epoch 00044: loss improved from 2.37003 to 2.33226, saving model to nextword1.h5\n",
            "277/277 [==============================] - 77s 278ms/step - loss: 2.3323 - lr: 0.0010\n",
            "Epoch 45/150\n",
            "277/277 [==============================] - ETA: 0s - loss: 2.3019\n",
            "Epoch 00045: loss improved from 2.33226 to 2.30185, saving model to nextword1.h5\n",
            "277/277 [==============================] - 77s 277ms/step - loss: 2.3019 - lr: 0.0010\n",
            "Epoch 46/150\n",
            "277/277 [==============================] - ETA: 0s - loss: 2.2606\n",
            "Epoch 00046: loss improved from 2.30185 to 2.26061, saving model to nextword1.h5\n",
            "277/277 [==============================] - 77s 277ms/step - loss: 2.2606 - lr: 0.0010\n",
            "Epoch 47/150\n",
            "277/277 [==============================] - ETA: 0s - loss: 2.2270\n",
            "Epoch 00047: loss improved from 2.26061 to 2.22703, saving model to nextword1.h5\n",
            "277/277 [==============================] - 77s 277ms/step - loss: 2.2270 - lr: 0.0010\n",
            "Epoch 48/150\n",
            "277/277 [==============================] - ETA: 0s - loss: 2.2107\n",
            "Epoch 00048: loss improved from 2.22703 to 2.21068, saving model to nextword1.h5\n",
            "277/277 [==============================] - 77s 277ms/step - loss: 2.2107 - lr: 0.0010\n",
            "Epoch 49/150\n",
            "277/277 [==============================] - ETA: 0s - loss: 2.1810\n",
            "Epoch 00049: loss improved from 2.21068 to 2.18099, saving model to nextword1.h5\n",
            "277/277 [==============================] - 76s 276ms/step - loss: 2.1810 - lr: 0.0010\n",
            "Epoch 50/150\n",
            "277/277 [==============================] - ETA: 0s - loss: 2.1485\n",
            "Epoch 00050: loss improved from 2.18099 to 2.14853, saving model to nextword1.h5\n",
            "277/277 [==============================] - 76s 274ms/step - loss: 2.1485 - lr: 0.0010\n",
            "Epoch 51/150\n",
            "277/277 [==============================] - ETA: 0s - loss: 2.1219\n",
            "Epoch 00051: loss improved from 2.14853 to 2.12195, saving model to nextword1.h5\n",
            "277/277 [==============================] - 76s 275ms/step - loss: 2.1219 - lr: 0.0010\n",
            "Epoch 52/150\n",
            "277/277 [==============================] - ETA: 0s - loss: 2.0937\n",
            "Epoch 00052: loss improved from 2.12195 to 2.09372, saving model to nextword1.h5\n",
            "277/277 [==============================] - 77s 277ms/step - loss: 2.0937 - lr: 0.0010\n",
            "Epoch 53/150\n",
            "277/277 [==============================] - ETA: 0s - loss: 2.0873\n",
            "Epoch 00053: loss improved from 2.09372 to 2.08734, saving model to nextword1.h5\n",
            "277/277 [==============================] - 76s 276ms/step - loss: 2.0873 - lr: 0.0010\n",
            "Epoch 54/150\n",
            "277/277 [==============================] - ETA: 0s - loss: 2.0679\n",
            "Epoch 00054: loss improved from 2.08734 to 2.06788, saving model to nextword1.h5\n",
            "277/277 [==============================] - 76s 275ms/step - loss: 2.0679 - lr: 0.0010\n",
            "Epoch 55/150\n",
            "277/277 [==============================] - ETA: 0s - loss: 2.0366\n",
            "Epoch 00055: loss improved from 2.06788 to 2.03661, saving model to nextword1.h5\n",
            "277/277 [==============================] - 77s 277ms/step - loss: 2.0366 - lr: 0.0010\n",
            "Epoch 56/150\n",
            "277/277 [==============================] - ETA: 0s - loss: 2.0208\n",
            "Epoch 00056: loss improved from 2.03661 to 2.02076, saving model to nextword1.h5\n",
            "277/277 [==============================] - 77s 276ms/step - loss: 2.0208 - lr: 0.0010\n",
            "Epoch 57/150\n",
            "277/277 [==============================] - ETA: 0s - loss: 2.0078\n",
            "Epoch 00057: loss improved from 2.02076 to 2.00785, saving model to nextword1.h5\n",
            "277/277 [==============================] - 77s 277ms/step - loss: 2.0078 - lr: 0.0010\n",
            "Epoch 58/150\n",
            "277/277 [==============================] - ETA: 0s - loss: 1.9866\n",
            "Epoch 00058: loss improved from 2.00785 to 1.98659, saving model to nextword1.h5\n",
            "277/277 [==============================] - 77s 278ms/step - loss: 1.9866 - lr: 0.0010\n",
            "Epoch 59/150\n",
            "277/277 [==============================] - ETA: 0s - loss: 1.9828\n",
            "Epoch 00059: loss improved from 1.98659 to 1.98277, saving model to nextword1.h5\n",
            "277/277 [==============================] - 77s 278ms/step - loss: 1.9828 - lr: 0.0010\n",
            "Epoch 60/150\n",
            "277/277 [==============================] - ETA: 0s - loss: 1.9757\n",
            "Epoch 00060: loss improved from 1.98277 to 1.97565, saving model to nextword1.h5\n",
            "277/277 [==============================] - 77s 278ms/step - loss: 1.9757 - lr: 0.0010\n",
            "Epoch 61/150\n",
            "277/277 [==============================] - ETA: 0s - loss: 1.9665\n",
            "Epoch 00061: loss improved from 1.97565 to 1.96646, saving model to nextword1.h5\n",
            "277/277 [==============================] - 77s 278ms/step - loss: 1.9665 - lr: 0.0010\n",
            "Epoch 62/150\n",
            "277/277 [==============================] - ETA: 0s - loss: 1.9510\n",
            "Epoch 00062: loss improved from 1.96646 to 1.95101, saving model to nextword1.h5\n",
            "277/277 [==============================] - 77s 279ms/step - loss: 1.9510 - lr: 0.0010\n",
            "Epoch 63/150\n",
            "277/277 [==============================] - ETA: 0s - loss: 1.9377\n",
            "Epoch 00063: loss improved from 1.95101 to 1.93775, saving model to nextword1.h5\n",
            "277/277 [==============================] - 77s 278ms/step - loss: 1.9377 - lr: 0.0010\n",
            "Epoch 64/150\n",
            "277/277 [==============================] - ETA: 0s - loss: 1.9211\n",
            "Epoch 00064: loss improved from 1.93775 to 1.92111, saving model to nextword1.h5\n",
            "277/277 [==============================] - 77s 276ms/step - loss: 1.9211 - lr: 0.0010\n",
            "Epoch 65/150\n",
            "277/277 [==============================] - ETA: 0s - loss: 1.9074\n",
            "Epoch 00065: loss improved from 1.92111 to 1.90741, saving model to nextword1.h5\n",
            "277/277 [==============================] - 77s 277ms/step - loss: 1.9074 - lr: 0.0010\n",
            "Epoch 66/150\n",
            "277/277 [==============================] - ETA: 0s - loss: 1.8978\n",
            "Epoch 00066: loss improved from 1.90741 to 1.89784, saving model to nextword1.h5\n",
            "277/277 [==============================] - 76s 276ms/step - loss: 1.8978 - lr: 0.0010\n",
            "Epoch 67/150\n",
            "277/277 [==============================] - ETA: 0s - loss: 1.8850\n",
            "Epoch 00067: loss improved from 1.89784 to 1.88497, saving model to nextword1.h5\n",
            "277/277 [==============================] - 76s 275ms/step - loss: 1.8850 - lr: 0.0010\n",
            "Epoch 68/150\n",
            "277/277 [==============================] - ETA: 0s - loss: 1.8758\n",
            "Epoch 00068: loss improved from 1.88497 to 1.87580, saving model to nextword1.h5\n",
            "277/277 [==============================] - 76s 273ms/step - loss: 1.8758 - lr: 0.0010\n",
            "Epoch 69/150\n",
            "277/277 [==============================] - ETA: 0s - loss: 1.8728\n",
            "Epoch 00069: loss improved from 1.87580 to 1.87280, saving model to nextword1.h5\n",
            "277/277 [==============================] - 76s 273ms/step - loss: 1.8728 - lr: 0.0010\n",
            "Epoch 70/150\n",
            "277/277 [==============================] - ETA: 0s - loss: 1.8558\n",
            "Epoch 00070: loss improved from 1.87280 to 1.85576, saving model to nextword1.h5\n",
            "277/277 [==============================] - 76s 274ms/step - loss: 1.8558 - lr: 0.0010\n",
            "Epoch 71/150\n",
            "277/277 [==============================] - ETA: 0s - loss: 1.8469\n",
            "Epoch 00071: loss improved from 1.85576 to 1.84687, saving model to nextword1.h5\n",
            "277/277 [==============================] - 76s 275ms/step - loss: 1.8469 - lr: 0.0010\n",
            "Epoch 72/150\n",
            "277/277 [==============================] - ETA: 0s - loss: 1.8469\n",
            "Epoch 00072: loss did not improve from 1.84687\n",
            "277/277 [==============================] - 75s 271ms/step - loss: 1.8469 - lr: 0.0010\n",
            "Epoch 73/150\n",
            "277/277 [==============================] - ETA: 0s - loss: 1.8418\n",
            "Epoch 00073: loss improved from 1.84687 to 1.84180, saving model to nextword1.h5\n",
            "277/277 [==============================] - 76s 273ms/step - loss: 1.8418 - lr: 0.0010\n",
            "Epoch 74/150\n",
            "277/277 [==============================] - ETA: 0s - loss: 1.8304\n",
            "Epoch 00074: loss improved from 1.84180 to 1.83043, saving model to nextword1.h5\n",
            "277/277 [==============================] - 77s 276ms/step - loss: 1.8304 - lr: 0.0010\n",
            "Epoch 75/150\n",
            "277/277 [==============================] - ETA: 0s - loss: 1.8334\n",
            "Epoch 00075: loss did not improve from 1.83043\n",
            "277/277 [==============================] - 76s 274ms/step - loss: 1.8334 - lr: 0.0010\n",
            "Epoch 76/150\n",
            "277/277 [==============================] - ETA: 0s - loss: 1.8215\n",
            "Epoch 00076: loss improved from 1.83043 to 1.82150, saving model to nextword1.h5\n",
            "277/277 [==============================] - 76s 274ms/step - loss: 1.8215 - lr: 0.0010\n",
            "Epoch 77/150\n",
            "277/277 [==============================] - ETA: 0s - loss: 1.8083\n",
            "Epoch 00077: loss improved from 1.82150 to 1.80835, saving model to nextword1.h5\n",
            "277/277 [==============================] - 76s 273ms/step - loss: 1.8083 - lr: 0.0010\n",
            "Epoch 78/150\n",
            "277/277 [==============================] - ETA: 0s - loss: 1.8040\n",
            "Epoch 00078: loss improved from 1.80835 to 1.80396, saving model to nextword1.h5\n",
            "277/277 [==============================] - 76s 275ms/step - loss: 1.8040 - lr: 0.0010\n",
            "Epoch 79/150\n",
            "277/277 [==============================] - ETA: 0s - loss: 1.7997\n",
            "Epoch 00079: loss improved from 1.80396 to 1.79970, saving model to nextword1.h5\n",
            "277/277 [==============================] - 76s 274ms/step - loss: 1.7997 - lr: 0.0010\n",
            "Epoch 80/150\n",
            "277/277 [==============================] - ETA: 0s - loss: 1.7871\n",
            "Epoch 00080: loss improved from 1.79970 to 1.78706, saving model to nextword1.h5\n",
            "277/277 [==============================] - 76s 275ms/step - loss: 1.7871 - lr: 0.0010\n",
            "Epoch 81/150\n",
            "277/277 [==============================] - ETA: 0s - loss: 1.7841\n",
            "Epoch 00081: loss improved from 1.78706 to 1.78412, saving model to nextword1.h5\n",
            "277/277 [==============================] - 76s 274ms/step - loss: 1.7841 - lr: 0.0010\n",
            "Epoch 82/150\n",
            "277/277 [==============================] - ETA: 0s - loss: 1.7727\n",
            "Epoch 00082: loss improved from 1.78412 to 1.77272, saving model to nextword1.h5\n",
            "277/277 [==============================] - 76s 274ms/step - loss: 1.7727 - lr: 0.0010\n",
            "Epoch 83/150\n",
            "277/277 [==============================] - ETA: 0s - loss: 1.7634\n",
            "Epoch 00083: loss improved from 1.77272 to 1.76336, saving model to nextword1.h5\n",
            "277/277 [==============================] - 76s 273ms/step - loss: 1.7634 - lr: 0.0010\n",
            "Epoch 84/150\n",
            "277/277 [==============================] - ETA: 0s - loss: 1.7604\n",
            "Epoch 00084: loss improved from 1.76336 to 1.76045, saving model to nextword1.h5\n",
            "277/277 [==============================] - 76s 273ms/step - loss: 1.7604 - lr: 0.0010\n",
            "Epoch 85/150\n",
            "277/277 [==============================] - ETA: 0s - loss: 1.7570\n",
            "Epoch 00085: loss improved from 1.76045 to 1.75695, saving model to nextword1.h5\n",
            "277/277 [==============================] - 76s 273ms/step - loss: 1.7570 - lr: 0.0010\n",
            "Epoch 86/150\n",
            "277/277 [==============================] - ETA: 0s - loss: 1.7613\n",
            "Epoch 00086: loss did not improve from 1.75695\n",
            "277/277 [==============================] - 75s 271ms/step - loss: 1.7613 - lr: 0.0010\n",
            "Epoch 87/150\n",
            "277/277 [==============================] - ETA: 0s - loss: 1.7526\n",
            "Epoch 00087: loss improved from 1.75695 to 1.75257, saving model to nextword1.h5\n",
            "277/277 [==============================] - 76s 273ms/step - loss: 1.7526 - lr: 0.0010\n",
            "Epoch 88/150\n",
            "277/277 [==============================] - ETA: 0s - loss: 1.7444\n",
            "Epoch 00088: loss improved from 1.75257 to 1.74445, saving model to nextword1.h5\n",
            "277/277 [==============================] - 76s 274ms/step - loss: 1.7444 - lr: 0.0010\n",
            "Epoch 89/150\n",
            "277/277 [==============================] - ETA: 0s - loss: 1.7432\n",
            "Epoch 00089: loss improved from 1.74445 to 1.74323, saving model to nextword1.h5\n",
            "277/277 [==============================] - 76s 275ms/step - loss: 1.7432 - lr: 0.0010\n",
            "Epoch 90/150\n",
            "277/277 [==============================] - ETA: 0s - loss: 1.7396\n",
            "Epoch 00090: loss improved from 1.74323 to 1.73958, saving model to nextword1.h5\n",
            "277/277 [==============================] - 76s 276ms/step - loss: 1.7396 - lr: 0.0010\n",
            "Epoch 91/150\n",
            "277/277 [==============================] - ETA: 0s - loss: 1.7408\n",
            "Epoch 00091: loss did not improve from 1.73958\n",
            "277/277 [==============================] - 75s 272ms/step - loss: 1.7408 - lr: 0.0010\n",
            "Epoch 92/150\n",
            "277/277 [==============================] - ETA: 0s - loss: 1.7321\n",
            "Epoch 00092: loss improved from 1.73958 to 1.73213, saving model to nextword1.h5\n",
            "277/277 [==============================] - 76s 273ms/step - loss: 1.7321 - lr: 0.0010\n",
            "Epoch 93/150\n",
            "277/277 [==============================] - ETA: 0s - loss: 1.7236\n",
            "Epoch 00093: loss improved from 1.73213 to 1.72358, saving model to nextword1.h5\n",
            "277/277 [==============================] - 76s 274ms/step - loss: 1.7236 - lr: 0.0010\n",
            "Epoch 94/150\n",
            "277/277 [==============================] - ETA: 0s - loss: 1.7186\n",
            "Epoch 00094: loss improved from 1.72358 to 1.71858, saving model to nextword1.h5\n",
            "277/277 [==============================] - 75s 272ms/step - loss: 1.7186 - lr: 0.0010\n",
            "Epoch 95/150\n",
            "277/277 [==============================] - ETA: 0s - loss: 1.7144\n",
            "Epoch 00095: loss improved from 1.71858 to 1.71441, saving model to nextword1.h5\n",
            "277/277 [==============================] - 75s 271ms/step - loss: 1.7144 - lr: 0.0010\n",
            "Epoch 96/150\n",
            "277/277 [==============================] - ETA: 0s - loss: 1.7134\n",
            "Epoch 00096: loss improved from 1.71441 to 1.71336, saving model to nextword1.h5\n",
            "277/277 [==============================] - 75s 272ms/step - loss: 1.7134 - lr: 0.0010\n",
            "Epoch 97/150\n",
            "277/277 [==============================] - ETA: 0s - loss: 1.7114\n",
            "Epoch 00097: loss improved from 1.71336 to 1.71145, saving model to nextword1.h5\n",
            "277/277 [==============================] - 76s 273ms/step - loss: 1.7114 - lr: 0.0010\n",
            "Epoch 98/150\n",
            "277/277 [==============================] - ETA: 0s - loss: 1.7046\n",
            "Epoch 00098: loss improved from 1.71145 to 1.70456, saving model to nextword1.h5\n",
            "277/277 [==============================] - 75s 272ms/step - loss: 1.7046 - lr: 0.0010\n",
            "Epoch 99/150\n",
            "277/277 [==============================] - ETA: 0s - loss: 1.6921\n",
            "Epoch 00099: loss improved from 1.70456 to 1.69214, saving model to nextword1.h5\n",
            "277/277 [==============================] - 76s 273ms/step - loss: 1.6921 - lr: 0.0010\n",
            "Epoch 100/150\n",
            "277/277 [==============================] - ETA: 0s - loss: 1.6927\n",
            "Epoch 00100: loss did not improve from 1.69214\n",
            "277/277 [==============================] - 75s 272ms/step - loss: 1.6927 - lr: 0.0010\n",
            "Epoch 101/150\n",
            "277/277 [==============================] - ETA: 0s - loss: 1.6930\n",
            "Epoch 00101: loss did not improve from 1.69214\n",
            "277/277 [==============================] - 75s 269ms/step - loss: 1.6930 - lr: 0.0010\n",
            "Epoch 102/150\n",
            "277/277 [==============================] - ETA: 0s - loss: 1.6908\n",
            "Epoch 00102: loss improved from 1.69214 to 1.69082, saving model to nextword1.h5\n",
            "277/277 [==============================] - 76s 274ms/step - loss: 1.6908 - lr: 0.0010\n",
            "Epoch 103/150\n",
            "277/277 [==============================] - ETA: 0s - loss: 1.6863\n",
            "Epoch 00103: loss improved from 1.69082 to 1.68633, saving model to nextword1.h5\n",
            "277/277 [==============================] - 76s 276ms/step - loss: 1.6863 - lr: 0.0010\n",
            "Epoch 104/150\n",
            "277/277 [==============================] - ETA: 0s - loss: 1.6822\n",
            "Epoch 00104: loss improved from 1.68633 to 1.68218, saving model to nextword1.h5\n",
            "277/277 [==============================] - 76s 274ms/step - loss: 1.6822 - lr: 0.0010\n",
            "Epoch 105/150\n",
            "277/277 [==============================] - ETA: 0s - loss: 1.6829\n",
            "Epoch 00105: loss did not improve from 1.68218\n",
            "277/277 [==============================] - 75s 272ms/step - loss: 1.6829 - lr: 0.0010\n",
            "Epoch 106/150\n",
            "277/277 [==============================] - ETA: 0s - loss: 1.6777\n",
            "Epoch 00106: loss improved from 1.68218 to 1.67765, saving model to nextword1.h5\n",
            "277/277 [==============================] - 76s 275ms/step - loss: 1.6777 - lr: 0.0010\n",
            "Epoch 107/150\n",
            "277/277 [==============================] - ETA: 0s - loss: 1.6716\n",
            "Epoch 00107: loss improved from 1.67765 to 1.67164, saving model to nextword1.h5\n",
            "277/277 [==============================] - 76s 274ms/step - loss: 1.6716 - lr: 0.0010\n",
            "Epoch 108/150\n",
            "277/277 [==============================] - ETA: 0s - loss: 1.6709\n",
            "Epoch 00108: loss improved from 1.67164 to 1.67094, saving model to nextword1.h5\n",
            "277/277 [==============================] - 76s 275ms/step - loss: 1.6709 - lr: 0.0010\n",
            "Epoch 109/150\n",
            "277/277 [==============================] - ETA: 0s - loss: 1.6704\n",
            "Epoch 00109: loss improved from 1.67094 to 1.67043, saving model to nextword1.h5\n",
            "277/277 [==============================] - 76s 274ms/step - loss: 1.6704 - lr: 0.0010\n",
            "Epoch 110/150\n",
            "277/277 [==============================] - ETA: 0s - loss: 1.6632\n",
            "Epoch 00110: loss improved from 1.67043 to 1.66324, saving model to nextword1.h5\n",
            "277/277 [==============================] - 76s 274ms/step - loss: 1.6632 - lr: 0.0010\n",
            "Epoch 111/150\n",
            "277/277 [==============================] - ETA: 0s - loss: 1.6584\n",
            "Epoch 00111: loss improved from 1.66324 to 1.65839, saving model to nextword1.h5\n",
            "277/277 [==============================] - 76s 274ms/step - loss: 1.6584 - lr: 0.0010\n",
            "Epoch 112/150\n",
            "277/277 [==============================] - ETA: 0s - loss: 1.6560\n",
            "Epoch 00112: loss improved from 1.65839 to 1.65596, saving model to nextword1.h5\n",
            "277/277 [==============================] - 76s 274ms/step - loss: 1.6560 - lr: 0.0010\n",
            "Epoch 113/150\n",
            "277/277 [==============================] - ETA: 0s - loss: 1.6532\n",
            "Epoch 00113: loss improved from 1.65596 to 1.65319, saving model to nextword1.h5\n",
            "277/277 [==============================] - 76s 274ms/step - loss: 1.6532 - lr: 0.0010\n",
            "Epoch 114/150\n",
            "277/277 [==============================] - ETA: 0s - loss: 1.6489\n",
            "Epoch 00114: loss improved from 1.65319 to 1.64885, saving model to nextword1.h5\n",
            "277/277 [==============================] - 76s 275ms/step - loss: 1.6489 - lr: 0.0010\n",
            "Epoch 115/150\n",
            "277/277 [==============================] - ETA: 0s - loss: 1.6514\n",
            "Epoch 00115: loss did not improve from 1.64885\n",
            "277/277 [==============================] - 75s 272ms/step - loss: 1.6514 - lr: 0.0010\n",
            "Epoch 116/150\n",
            "277/277 [==============================] - ETA: 0s - loss: 1.6534\n",
            "Epoch 00116: loss did not improve from 1.64885\n",
            "277/277 [==============================] - 75s 270ms/step - loss: 1.6534 - lr: 0.0010\n",
            "Epoch 117/150\n",
            "277/277 [==============================] - ETA: 0s - loss: 1.6419\n",
            "Epoch 00117: loss improved from 1.64885 to 1.64187, saving model to nextword1.h5\n",
            "277/277 [==============================] - 76s 273ms/step - loss: 1.6419 - lr: 0.0010\n",
            "Epoch 118/150\n",
            "277/277 [==============================] - ETA: 0s - loss: 1.6425\n",
            "Epoch 00118: loss did not improve from 1.64187\n",
            "277/277 [==============================] - 75s 270ms/step - loss: 1.6425 - lr: 0.0010\n",
            "Epoch 119/150\n",
            "277/277 [==============================] - ETA: 0s - loss: 1.6393\n",
            "Epoch 00119: loss improved from 1.64187 to 1.63934, saving model to nextword1.h5\n",
            "277/277 [==============================] - 75s 272ms/step - loss: 1.6393 - lr: 0.0010\n",
            "Epoch 120/150\n",
            "277/277 [==============================] - ETA: 0s - loss: 1.6425\n",
            "Epoch 00120: loss did not improve from 1.63934\n",
            "277/277 [==============================] - 75s 270ms/step - loss: 1.6425 - lr: 0.0010\n",
            "Epoch 121/150\n",
            "277/277 [==============================] - ETA: 0s - loss: 1.6406\n",
            "Epoch 00121: loss did not improve from 1.63934\n",
            "277/277 [==============================] - 75s 271ms/step - loss: 1.6406 - lr: 0.0010\n",
            "Epoch 122/150\n",
            "277/277 [==============================] - ETA: 0s - loss: 1.6380\n",
            "Epoch 00122: loss improved from 1.63934 to 1.63801, saving model to nextword1.h5\n",
            "277/277 [==============================] - 76s 274ms/step - loss: 1.6380 - lr: 0.0010\n",
            "Epoch 123/150\n",
            "277/277 [==============================] - ETA: 0s - loss: 1.6368\n",
            "Epoch 00123: loss improved from 1.63801 to 1.63675, saving model to nextword1.h5\n",
            "277/277 [==============================] - 76s 273ms/step - loss: 1.6368 - lr: 0.0010\n",
            "Epoch 124/150\n",
            "277/277 [==============================] - ETA: 0s - loss: 1.6327\n",
            "Epoch 00124: loss improved from 1.63675 to 1.63266, saving model to nextword1.h5\n",
            "277/277 [==============================] - 76s 273ms/step - loss: 1.6327 - lr: 0.0010\n",
            "Epoch 125/150\n",
            "277/277 [==============================] - ETA: 0s - loss: 1.6268\n",
            "Epoch 00125: loss improved from 1.63266 to 1.62677, saving model to nextword1.h5\n",
            "277/277 [==============================] - 76s 273ms/step - loss: 1.6268 - lr: 0.0010\n",
            "Epoch 126/150\n",
            "277/277 [==============================] - ETA: 0s - loss: 1.6213\n",
            "Epoch 00126: loss improved from 1.62677 to 1.62130, saving model to nextword1.h5\n",
            "277/277 [==============================] - 76s 274ms/step - loss: 1.6213 - lr: 0.0010\n",
            "Epoch 127/150\n",
            "277/277 [==============================] - ETA: 0s - loss: 1.6154\n",
            "Epoch 00127: loss improved from 1.62130 to 1.61544, saving model to nextword1.h5\n",
            "277/277 [==============================] - 76s 274ms/step - loss: 1.6154 - lr: 0.0010\n",
            "Epoch 128/150\n",
            "277/277 [==============================] - ETA: 0s - loss: 1.6116\n",
            "Epoch 00128: loss improved from 1.61544 to 1.61165, saving model to nextword1.h5\n",
            "277/277 [==============================] - 76s 275ms/step - loss: 1.6116 - lr: 0.0010\n",
            "Epoch 129/150\n",
            "277/277 [==============================] - ETA: 0s - loss: 1.6191\n",
            "Epoch 00129: loss did not improve from 1.61165\n",
            "277/277 [==============================] - 75s 271ms/step - loss: 1.6191 - lr: 0.0010\n",
            "Epoch 130/150\n",
            "277/277 [==============================] - ETA: 0s - loss: 1.6176\n",
            "Epoch 00130: loss did not improve from 1.61165\n",
            "277/277 [==============================] - 75s 272ms/step - loss: 1.6176 - lr: 0.0010\n",
            "Epoch 131/150\n",
            "277/277 [==============================] - ETA: 0s - loss: 1.6122\n",
            "Epoch 00131: loss did not improve from 1.61165\n",
            "\n",
            "Epoch 00131: ReduceLROnPlateau reducing learning rate to 0.00020000000949949026.\n",
            "277/277 [==============================] - 76s 273ms/step - loss: 1.6122 - lr: 0.0010\n",
            "Epoch 132/150\n",
            "277/277 [==============================] - ETA: 0s - loss: 1.4764\n",
            "Epoch 00132: loss improved from 1.61165 to 1.47637, saving model to nextword1.h5\n",
            "277/277 [==============================] - 77s 276ms/step - loss: 1.4764 - lr: 2.0000e-04\n",
            "Epoch 133/150\n",
            "277/277 [==============================] - ETA: 0s - loss: 1.4597\n",
            "Epoch 00133: loss improved from 1.47637 to 1.45970, saving model to nextword1.h5\n",
            "277/277 [==============================] - 77s 278ms/step - loss: 1.4597 - lr: 2.0000e-04\n",
            "Epoch 134/150\n",
            "277/277 [==============================] - ETA: 0s - loss: 1.4550\n",
            "Epoch 00134: loss improved from 1.45970 to 1.45501, saving model to nextword1.h5\n",
            "277/277 [==============================] - 76s 276ms/step - loss: 1.4550 - lr: 2.0000e-04\n",
            "Epoch 135/150\n",
            "277/277 [==============================] - ETA: 0s - loss: 1.4514\n",
            "Epoch 00135: loss improved from 1.45501 to 1.45144, saving model to nextword1.h5\n",
            "277/277 [==============================] - 76s 275ms/step - loss: 1.4514 - lr: 2.0000e-04\n",
            "Epoch 136/150\n",
            "277/277 [==============================] - ETA: 0s - loss: 1.4499\n",
            "Epoch 00136: loss improved from 1.45144 to 1.44988, saving model to nextword1.h5\n",
            "277/277 [==============================] - 76s 275ms/step - loss: 1.4499 - lr: 2.0000e-04\n",
            "Epoch 137/150\n",
            "277/277 [==============================] - ETA: 0s - loss: 1.4486\n",
            "Epoch 00137: loss improved from 1.44988 to 1.44859, saving model to nextword1.h5\n",
            "277/277 [==============================] - 78s 281ms/step - loss: 1.4486 - lr: 2.0000e-04\n",
            "Epoch 138/150\n",
            "277/277 [==============================] - ETA: 0s - loss: 1.4480\n",
            "Epoch 00138: loss improved from 1.44859 to 1.44804, saving model to nextword1.h5\n",
            "277/277 [==============================] - 78s 283ms/step - loss: 1.4480 - lr: 2.0000e-04\n",
            "Epoch 139/150\n",
            "277/277 [==============================] - ETA: 0s - loss: 1.4472\n",
            "Epoch 00139: loss improved from 1.44804 to 1.44720, saving model to nextword1.h5\n",
            "277/277 [==============================] - 77s 278ms/step - loss: 1.4472 - lr: 2.0000e-04\n",
            "Epoch 140/150\n",
            "277/277 [==============================] - ETA: 0s - loss: 1.4468\n",
            "Epoch 00140: loss improved from 1.44720 to 1.44683, saving model to nextword1.h5\n",
            "277/277 [==============================] - 77s 278ms/step - loss: 1.4468 - lr: 2.0000e-04\n",
            "Epoch 141/150\n",
            "277/277 [==============================] - ETA: 0s - loss: 1.4459\n",
            "Epoch 00141: loss improved from 1.44683 to 1.44589, saving model to nextword1.h5\n",
            "277/277 [==============================] - 77s 279ms/step - loss: 1.4459 - lr: 2.0000e-04\n",
            "Epoch 142/150\n",
            "277/277 [==============================] - ETA: 0s - loss: 1.4455\n",
            "Epoch 00142: loss improved from 1.44589 to 1.44551, saving model to nextword1.h5\n",
            "277/277 [==============================] - 76s 275ms/step - loss: 1.4455 - lr: 2.0000e-04\n",
            "Epoch 143/150\n",
            "277/277 [==============================] - ETA: 0s - loss: 1.4455\n",
            "Epoch 00143: loss improved from 1.44551 to 1.44550, saving model to nextword1.h5\n",
            "277/277 [==============================] - 76s 274ms/step - loss: 1.4455 - lr: 2.0000e-04\n",
            "Epoch 144/150\n",
            "277/277 [==============================] - ETA: 0s - loss: 1.4453\n",
            "Epoch 00144: loss improved from 1.44550 to 1.44532, saving model to nextword1.h5\n",
            "277/277 [==============================] - 76s 275ms/step - loss: 1.4453 - lr: 2.0000e-04\n",
            "Epoch 145/150\n",
            "277/277 [==============================] - ETA: 0s - loss: 1.4451\n",
            "Epoch 00145: loss improved from 1.44532 to 1.44512, saving model to nextword1.h5\n",
            "277/277 [==============================] - 76s 274ms/step - loss: 1.4451 - lr: 2.0000e-04\n",
            "Epoch 146/150\n",
            "277/277 [==============================] - ETA: 0s - loss: 1.4446\n",
            "Epoch 00146: loss improved from 1.44512 to 1.44456, saving model to nextword1.h5\n",
            "277/277 [==============================] - 76s 274ms/step - loss: 1.4446 - lr: 2.0000e-04\n",
            "Epoch 147/150\n",
            "277/277 [==============================] - ETA: 0s - loss: 1.4444\n",
            "Epoch 00147: loss improved from 1.44456 to 1.44437, saving model to nextword1.h5\n",
            "277/277 [==============================] - 76s 273ms/step - loss: 1.4444 - lr: 2.0000e-04\n",
            "Epoch 148/150\n",
            "277/277 [==============================] - ETA: 0s - loss: 1.4439\n",
            "Epoch 00148: loss improved from 1.44437 to 1.44386, saving model to nextword1.h5\n",
            "277/277 [==============================] - 76s 274ms/step - loss: 1.4439 - lr: 2.0000e-04\n",
            "Epoch 149/150\n",
            "277/277 [==============================] - ETA: 0s - loss: 1.4442\n",
            "Epoch 00149: loss did not improve from 1.44386\n",
            "277/277 [==============================] - 76s 273ms/step - loss: 1.4442 - lr: 2.0000e-04\n",
            "Epoch 150/150\n",
            "277/277 [==============================] - ETA: 0s - loss: 1.4436\n",
            "Epoch 00150: loss improved from 1.44386 to 1.44364, saving model to nextword1.h5\n",
            "277/277 [==============================] - 76s 275ms/step - loss: 1.4436 - lr: 2.0000e-04\n"
          ]
        },
        {
          "output_type": "execute_result",
          "data": {
            "text/plain": [
              "<keras.callbacks.History at 0x7f83ee3ed290>"
            ]
          },
          "metadata": {},
          "execution_count": 20
        }
      ]
    },
    {
      "cell_type": "markdown",
      "source": [
        "Graph:"
      ],
      "metadata": {
        "id": "0jwcdXymLyDX"
      }
    },
    {
      "cell_type": "code",
      "source": [
        "from IPython.display import Image \n",
        "pil_img = Image(filename='/content/graph1.png')\n",
        "display(pil_img)"
      ],
      "metadata": {
        "colab": {
          "base_uri": "https://localhost:8080/",
          "height": 538
        },
        "id": "cO9t6GjgMAlw",
        "outputId": "c3c3c154-2c9b-4573-e98e-fb4ac2d83055"
      },
      "execution_count": 1,
      "outputs": [
        {
          "output_type": "display_data",
          "data": {
            "image/png": "[encoded data removed]",
            "text/plain": [
              "<IPython.core.display.Image object>"
            ]
          },
          "metadata": {}
        }
      ]
    },
    {
      "cell_type": "markdown",
      "source": [
        "***Observation:***\n",
        "We are able to develop a decent next word prediction model and are able to get a declining loss and an overall decent performance."
      ],
      "metadata": {
        "id": "lWsRbaqNNmZU"
      }
    },
    {
      "cell_type": "markdown",
      "source": [
        "**Thank You**"
      ],
      "metadata": {
        "id": "iPGqyKRENZqU"
      }
    }
  ]
}